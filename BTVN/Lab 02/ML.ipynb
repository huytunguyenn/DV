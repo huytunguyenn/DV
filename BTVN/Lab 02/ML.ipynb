{
 "metadata": {
  "language_info": {
   "codemirror_mode": {
    "name": "ipython",
    "version": 3
   },
   "file_extension": ".py",
   "mimetype": "text/x-python",
   "name": "python",
   "nbconvert_exporter": "python",
   "pygments_lexer": "ipython3",
   "version": "3.8.5"
  },
  "orig_nbformat": 2,
  "kernelspec": {
   "name": "python385jvsc74a57bd0b3ba2566441a7c06988d0923437866b63cedc61552a5af99d1f4fb67d367b25f",
   "display_name": "Python 3.8.5 64-bit ('base': conda)"
  }
 },
 "nbformat": 4,
 "nbformat_minor": 2,
 "cells": [
  {
   "cell_type": "code",
   "execution_count": 33,
   "metadata": {},
   "outputs": [],
   "source": [
    "#basic\n",
    "import pandas as pd\n",
    "import numpy as np\n",
    "from pandas import DataFrame\n",
    "import statsmodels.api as sm"
   ]
  },
  {
   "cell_type": "code",
   "execution_count": 34,
   "metadata": {},
   "outputs": [],
   "source": [
    "def dataframeCleaner(df):\n",
    "    for columnname in df: #looping through titles of the table \n",
    "        temp = []     \n",
    "        for column in df[columnname]:   #geting column elements for the each title\n",
    "            column = str(column)\n",
    "            column = column.replace(',','')# Removing unwanted data clutter\n",
    "            column = column.replace('+','')#Removing unwanted '+'sign  \n",
    "            try:   #using try except block to convert datatype string to integer while avoiding error\n",
    "                column = int(column)\n",
    "            except:\n",
    "                pass\n",
    "            \n",
    "            temp.append(column)\n",
    "        df[columnname] = temp\n",
    "        \n",
    "    df.replace('nan', 0, regex=True,inplace=True) # delete N/A\n",
    "    df.replace(['\\n'], '', regex=True, inplace=True) #delete unwanted newline\n",
    "    df.replace([','], '', regex=True, inplace=True) #delete comma\n",
    "    df.replace(r'^\\s*$', 0, regex=True,inplace=True)# converting empty string to 0\n",
    "\n",
    "    return df"
   ]
  },
  {
   "cell_type": "code",
   "execution_count": 35,
   "metadata": {},
   "outputs": [],
   "source": [
    "def cleanerForNewCases(dataset):\n",
    "    # remove unnecessary column\n",
    "    df = dataset.drop(dataset.head(8).index)\n",
    "    if set(['Active Cases/1M pop','New Deaths/1M pop','1 Testevery X ppl','1 Deathevery X ppl','1 Caseevery X ppl','Tests/\\n1M pop','TotalTests','Deaths/1M pop','Tot Cases/1M pop','New Cases/1M pop']).issubset(df.columns):\n",
    "        df.drop(['Active Cases/1M pop','New Deaths/1M pop','1 Testevery X ppl','1 Deathevery X ppl','1 Caseevery X ppl','Tests/\\n1M pop','TotalTests','Deaths/1M pop','Tot Cases/1M pop','New Cases/1M pop'], inplace=True, axis=1)\n",
    "    if set(['NewRecovered','NewCases','NewDeaths']).issubset(df.columns):\n",
    "        df.dropna(subset=['NewRecovered'],how='any', inplace=True)\n",
    "        df.dropna(subset=['NewCases'],how='any', inplace=True)\n",
    "        df.dropna(subset=['NewDeaths'],how='any', inplace=True)\n",
    "    # basic cleanner\n",
    "    df = dataframeCleaner(df) \n",
    "\n",
    "    return df"
   ]
  },
  {
   "cell_type": "code",
   "execution_count": 37,
   "metadata": {},
   "outputs": [],
   "source": [
    "raw_data = pd.read_csv('23_04_2021.csv')\n",
    "df = cleanerForNewCases(raw_data) \n",
    "#df=df[['NewCases','Continent']]\n",
    "#df.head()"
   ]
  },
  {
   "source": [
    "## Ordinary Least Squares Regression"
   ],
   "cell_type": "markdown",
   "metadata": {}
  },
  {
   "cell_type": "code",
   "execution_count": 38,
   "metadata": {},
   "outputs": [
    {
     "output_type": "stream",
     "name": "stdout",
     "text": [
      "                            OLS Regression Results                            \n==============================================================================\nDep. Variable:           NewRecovered   R-squared:                       0.970\nModel:                            OLS   Adj. R-squared:                  0.970\nMethod:                 Least Squares   F-statistic:                     3545.\nDate:                Sat, 22 May 2021   Prob (F-statistic):           5.75e-85\nTime:                        18:57:20   Log-Likelihood:                -1075.9\nNo. Observations:                 111   AIC:                             2156.\nDf Residuals:                     109   BIC:                             2161.\nDf Model:                           1                                         \nCovariance Type:            nonrobust                                         \n==============================================================================\n                 coef    std err          t      P>|t|      [0.025      0.975]\n------------------------------------------------------------------------------\nconst       1331.0324    385.505      3.453      0.001     566.975    2095.090\nNewCases       0.6577      0.011     59.537      0.000       0.636       0.680\n==============================================================================\nOmnibus:                      120.857   Durbin-Watson:                   1.653\nProb(Omnibus):                  0.000   Jarque-Bera (JB):             1969.002\nSkew:                           3.760   Prob(JB):                         0.00\nKurtosis:                      22.214   Cond. No.                     3.58e+04\n==============================================================================\n\nNotes:\n[1] Standard Errors assume that the covariance matrix of the errors is correctly specified.\n[2] The condition number is large, 3.58e+04. This might indicate that there are\nstrong multicollinearity or other numerical problems.\n"
     ]
    }
   ],
   "source": [
    "X = df['NewCases'] # one variable for simple linear regression\n",
    "Y = df['NewRecovered']\n",
    "\n",
    "X = sm.add_constant(X) # adding a constant\n",
    "\n",
    "model = sm.OLS(Y, X).fit()\n",
    "predictions = model.predict(X) \n",
    "\n",
    "print_model = model.summary()\n",
    "print(print_model)"
   ]
  },
  {
   "cell_type": "code",
   "execution_count": 39,
   "metadata": {},
   "outputs": [
    {
     "output_type": "stream",
     "name": "stdout",
     "text": [
      "0.0007911547049567241\n5.753990650828544e-85\n"
     ]
    }
   ],
   "source": [
    "# print the exact p-value \n",
    "for attributeIndex in range (0, 2):\n",
    "    print(model.pvalues[attributeIndex])"
   ]
  },
  {
   "source": [
    "Từ kết quả trên ta có thể đưa ra kết luận:\n",
    "\n",
    "- Biến NewCases có ý nghĩa đối với mô hình về mặt thống kê (p-value = 5.75e-85).\n",
    "\n",
    "- Mô hình phù hợp tốt với dữ liệu quan sát về mặt thống kê (p-value = 5.75e-85).\n",
    "\n",
    "- Biến NewCases có thể giải thích được 97% sự thay đổi của biến NewRecovered\n",
    "\n",
    "- Phương trình hồi quy:\n",
    "\n",
    "        NewRecovered = 1331.0324 + 0.970 * NewCases"
   ],
   "cell_type": "markdown",
   "metadata": {}
  },
  {
   "source": [
    "## Linear regression"
   ],
   "cell_type": "markdown",
   "metadata": {}
  },
  {
   "cell_type": "code",
   "execution_count": 40,
   "metadata": {},
   "outputs": [],
   "source": [
    "x = df['NewDeaths'] \n",
    "y = df['NewCases']"
   ]
  },
  {
   "cell_type": "code",
   "execution_count": 41,
   "metadata": {},
   "outputs": [],
   "source": [
    "from sklearn.model_selection import train_test_split \n",
    "x_train, x_test, y_train, y_test = train_test_split(x, y, test_size=0.3)"
   ]
  },
  {
   "cell_type": "code",
   "execution_count": 42,
   "metadata": {},
   "outputs": [],
   "source": [
    "from sklearn.linear_model import LinearRegression\n",
    "lr = LinearRegression()"
   ]
  },
  {
   "cell_type": "code",
   "execution_count": 43,
   "metadata": {},
   "outputs": [
    {
     "output_type": "execute_result",
     "data": {
      "text/plain": [
       "LinearRegression()"
      ]
     },
     "metadata": {},
     "execution_count": 43
    }
   ],
   "source": [
    "lr.fit(np.array(x_train).reshape(-1,1),np.array(y_train).reshape(-1,1))"
   ]
  },
  {
   "cell_type": "code",
   "execution_count": 44,
   "metadata": {},
   "outputs": [],
   "source": [
    "y_pred=lr.predict(np.array(x_test).reshape(-1,1))"
   ]
  },
  {
   "cell_type": "code",
   "execution_count": 45,
   "metadata": {},
   "outputs": [
    {
     "output_type": "execute_result",
     "data": {
      "text/plain": [
       "96321112.20804888"
      ]
     },
     "metadata": {},
     "execution_count": 45
    }
   ],
   "source": [
    "from sklearn.metrics import mean_squared_error\n",
    "mean_squared_error(x_test,y_pred) "
   ]
  },
  {
   "source": [
    "Giá trị MSE khá lớn cho nên mô hình dự đoán này không được đánh giá tốt."
   ],
   "cell_type": "markdown",
   "metadata": {}
  }
 ]
}