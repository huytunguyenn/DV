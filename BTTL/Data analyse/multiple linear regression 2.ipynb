{
 "cells": [
  {
   "cell_type": "code",
   "execution_count": 1,
   "metadata": {},
   "outputs": [],
   "source": [
    "import pandas as pd\n",
    "import numpy as np"
   ]
  },
  {
   "cell_type": "code",
   "execution_count": 2,
   "metadata": {},
   "outputs": [],
   "source": [
    "df = pd.read_excel('data.xlsx', sheet_name='Data')"
   ]
  },
  {
   "cell_type": "code",
   "execution_count": 3,
   "metadata": {},
   "outputs": [],
   "source": [
    "df = df.drop(['KV', 'thunhap', 'chitieu', 'songuoi'],1)"
   ]
  },
  {
   "cell_type": "code",
   "execution_count": 4,
   "metadata": {},
   "outputs": [],
   "source": [
    "import statsmodels.api as sm\n",
    "import statsmodels.formula.api as smf"
   ]
  },
  {
   "cell_type": "code",
   "execution_count": 5,
   "metadata": {},
   "outputs": [],
   "source": [
    "y = df.pop('Chi tiêu')"
   ]
  },
  {
   "cell_type": "code",
   "execution_count": 6,
   "metadata": {},
   "outputs": [
    {
     "data": {
      "text/plain": [
       "0    1\n",
       "1    1\n",
       "2    1\n",
       "3    1\n",
       "4    1\n",
       "Name: Khu vực, dtype: int32"
      ]
     },
     "execution_count": 6,
     "metadata": {},
     "output_type": "execute_result"
    }
   ],
   "source": [
    "df['Khu vực'] = df['Khu vực'].replace('Nông thôn', 0)\n",
    "df['Khu vực'] = df['Khu vực'].replace('Thành thị', 1)\n",
    "df['Khu vực'] = df['Khu vực'].astype(int)\n",
    "df['Khu vực'].head()"
   ]
  },
  {
   "cell_type": "code",
   "execution_count": 7,
   "metadata": {},
   "outputs": [
    {
     "name": "stdout",
     "output_type": "stream",
     "text": [
      "       feature       VIF\n",
      "0      Khu vực  2.392896\n",
      "1     Số người  3.985062\n",
      "2     Thu nhập  6.754451\n",
      "3  Chi ăn uống  9.077163\n"
     ]
    }
   ],
   "source": [
    "from statsmodels.stats.outliers_influence import variance_inflation_factor\n",
    "\n",
    "df = df.select_dtypes(exclude = 'object')\n",
    "# VIF dataframe\n",
    "vif_data = pd.DataFrame()\n",
    "vif_data[\"feature\"] = df.columns\n",
    "  \n",
    "# calculating VIF for each feature\n",
    "vif_data[\"VIF\"] = [variance_inflation_factor(df.values, i)\n",
    "                          for i in range(len(df.columns))]\n",
    "  \n",
    "print(vif_data)"
   ]
  },
  {
   "cell_type": "code",
   "execution_count": 8,
   "metadata": {},
   "outputs": [],
   "source": [
    "df = df.drop(['Chi ăn uống'],1)"
   ]
  },
  {
   "cell_type": "code",
   "execution_count": 9,
   "metadata": {},
   "outputs": [
    {
     "name": "stdout",
     "output_type": "stream",
     "text": [
      "                            OLS Regression Results                            \n",
      "==============================================================================\n",
      "Dep. Variable:               Chi tiêu   R-squared:                       0.730\n",
      "Model:                            OLS   Adj. R-squared:                  0.728\n",
      "Method:                 Least Squares   F-statistic:                     374.0\n",
      "Date:                Fri, 21 May 2021   Prob (F-statistic):          1.05e-117\n",
      "Time:                        15:00:52   Log-Likelihood:                -2156.8\n",
      "No. Observations:                 420   AIC:                             4322.\n",
      "Df Residuals:                     416   BIC:                             4338.\n",
      "Df Model:                           3                                         \n",
      "Covariance Type:            nonrobust                                         \n",
      "==============================================================================\n",
      "                 coef    std err          t      P>|t|      [0.025      0.975]\n",
      "------------------------------------------------------------------------------\n",
      "const          2.3987      5.882      0.408      0.684      -9.163      13.960\n",
      "Khu vực       32.0483      4.669      6.864      0.000      22.871      41.226\n",
      "Số người       3.6981      1.488      2.485      0.013       0.773       6.624\n",
      "Thu nhập       0.5145      0.023     22.532      0.000       0.470       0.559\n",
      "==============================================================================\n",
      "Omnibus:                      112.288   Durbin-Watson:                   1.388\n",
      "Prob(Omnibus):                  0.000   Jarque-Bera (JB):              554.959\n",
      "Skew:                           1.056   Prob(JB):                    3.11e-121\n",
      "Kurtosis:                       8.220   Cond. No.                         565.\n",
      "==============================================================================\n",
      "\n",
      "Notes:\n",
      "[1] Standard Errors assume that the covariance matrix of the errors is correctly specified.\n"
     ]
    }
   ],
   "source": [
    "\n",
    "results = sm.OLS(y, sm.add_constant(df)).fit()\n",
    "print(results.summary())"
   ]
  },
  {
   "cell_type": "markdown",
   "metadata": {},
   "source": [
    "</br> \n",
    "\n",
    "Kết luận:\n",
    "\n",
    "- Biến `Khu vực` có ý nghĩa đối với mô hình về mặt thống kê (với mức ý nghĩa (***) hay p-value = 0.000)\n",
    "- Biến `Số người` có ý nghĩa đối với mô hình về mặt thống kê (với mức ý nghĩa (***) hay p-value = 0.013)\n",
    "- Biến `Thu nhập` có ý nghĩa đối với mô hình về mặt thống kê (với mức ý nghĩa (***) hay p-value = 0.000)\n",
    "\n",
    "\n",
    "- Mô hình có thể giải thích được 72.8% sự thay đổi của biến `charges`\n"
   ]
  },
  {
   "cell_type": "code",
   "execution_count": null,
   "metadata": {},
   "outputs": [],
   "source": []
  }
 ],
 "metadata": {
  "kernelspec": {
   "display_name": "Python 3",
   "language": "python",
   "name": "python3"
  },
  "language_info": {
   "codemirror_mode": {
    "name": "ipython",
    "version": 3
   },
   "file_extension": ".py",
   "mimetype": "text/x-python",
   "name": "python",
   "nbconvert_exporter": "python",
   "pygments_lexer": "ipython3",
   "version": "3.8.5"
  }
 },
 "nbformat": 4,
 "nbformat_minor": 4
}