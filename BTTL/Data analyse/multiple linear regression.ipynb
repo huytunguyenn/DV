{
 "cells": [
  {
   "cell_type": "code",
   "execution_count": 1,
   "metadata": {},
   "outputs": [],
   "source": [
    "import pandas as pd\n",
    "import numpy as np"
   ]
  },
  {
   "cell_type": "code",
   "execution_count": 2,
   "metadata": {},
   "outputs": [],
   "source": [
    "df = pd.read_excel('data.xlsx', sheet_name='Data')"
   ]
  },
  {
   "cell_type": "code",
   "execution_count": 3,
   "metadata": {},
   "outputs": [],
   "source": [
    "df = df.drop(['KV', 'thunhap', 'chitieu', 'songuoi'],1)"
   ]
  },
  {
   "cell_type": "code",
   "execution_count": 4,
   "metadata": {},
   "outputs": [],
   "source": [
    "import statsmodels.api as sm\n",
    "import statsmodels.formula.api as smf"
   ]
  },
  {
   "cell_type": "code",
   "execution_count": 5,
   "metadata": {},
   "outputs": [],
   "source": [
    "y = df.pop('Chi tiêu')"
   ]
  },
  {
   "cell_type": "code",
   "execution_count": 6,
   "metadata": {},
   "outputs": [
    {
     "data": {
      "text/plain": [
       "0    1\n",
       "1    1\n",
       "2    1\n",
       "3    1\n",
       "4    1\n",
       "Name: Khu vực, dtype: int32"
      ]
     },
     "execution_count": 6,
     "metadata": {},
     "output_type": "execute_result"
    }
   ],
   "source": [
    "df['Khu vực'] = df['Khu vực'].replace('Nông thôn', 0)\n",
    "df['Khu vực'] = df['Khu vực'].replace('Thành thị', 1)\n",
    "df['Khu vực'] = df['Khu vực'].astype(int)\n",
    "df['Khu vực'].head()"
   ]
  },
  {
   "cell_type": "code",
   "execution_count": 7,
   "metadata": {},
   "outputs": [
    {
     "name": "stdout",
     "output_type": "stream",
     "text": [
      "       feature       VIF\n",
      "0      Khu vực  2.392896\n",
      "1     Số người  3.985062\n",
      "2     Thu nhập  6.754451\n",
      "3  Chi ăn uống  9.077163\n"
     ]
    }
   ],
   "source": [
    "from statsmodels.stats.outliers_influence import variance_inflation_factor\n",
    "\n",
    "df = df.select_dtypes(exclude = 'object')\n",
    "# VIF dataframe\n",
    "vif_data = pd.DataFrame()\n",
    "vif_data[\"feature\"] = df.columns\n",
    "  \n",
    "# calculating VIF for each feature\n",
    "vif_data[\"VIF\"] = [variance_inflation_factor(df.values, i)\n",
    "                          for i in range(len(df.columns))]\n",
    "  \n",
    "print(vif_data)"
   ]
  },
  {
   "cell_type": "code",
   "execution_count": 8,
   "metadata": {},
   "outputs": [
    {
     "name": "stdout",
     "output_type": "stream",
     "text": [
      "                            OLS Regression Results                            \n",
      "==============================================================================\n",
      "Dep. Variable:               Chi tiêu   R-squared:                       0.937\n",
      "Model:                            OLS   Adj. R-squared:                  0.937\n",
      "Method:                 Least Squares   F-statistic:                     1548.\n",
      "Date:                Fri, 21 May 2021   Prob (F-statistic):          7.32e-248\n",
      "Time:                        14:54:22   Log-Likelihood:                -1850.1\n",
      "No. Observations:                 420   AIC:                             3710.\n",
      "Df Residuals:                     415   BIC:                             3730.\n",
      "Df Model:                           4                                         \n",
      "Covariance Type:            nonrobust                                         \n",
      "===============================================================================\n",
      "                  coef    std err          t      P>|t|      [0.025      0.975]\n",
      "-------------------------------------------------------------------------------\n",
      "const           7.4122      2.841      2.609      0.009       1.828      12.996\n",
      "Khu vực         2.1757      2.392      0.909      0.364      -2.527       6.878\n",
      "Số người       -5.3675      0.759     -7.076      0.000      -6.859      -3.876\n",
      "Thu nhập        0.1913      0.014     13.613      0.000       0.164       0.219\n",
      "Chi ăn uống     1.1856      0.032     37.045      0.000       1.123       1.248\n",
      "==============================================================================\n",
      "Omnibus:                      424.895   Durbin-Watson:                   1.794\n",
      "Prob(Omnibus):                  0.000   Jarque-Bera (JB):            33317.431\n",
      "Skew:                           4.115   Prob(JB):                         0.00\n",
      "Kurtosis:                      45.850   Cond. No.                         636.\n",
      "==============================================================================\n",
      "\n",
      "Notes:\n",
      "[1] Standard Errors assume that the covariance matrix of the errors is correctly specified.\n"
     ]
    }
   ],
   "source": [
    "\n",
    "results = sm.OLS(y, sm.add_constant(df)).fit()\n",
    "print(results.summary())"
   ]
  },
  {
   "cell_type": "markdown",
   "metadata": {},
   "source": [
    "</br> \n",
    "\n",
    "Kết luận:\n",
    "\n",
    "- Biến `Khu vực` không có ý nghĩa đối với mô hình về mặt thống kê \n",
    "- Biến `Số người` có ý nghĩa đối với mô hình về mặt thống kê (với mức ý nghĩa (***) hay p-value = 0.000)\n",
    "- Biến `Thu nhập` có ý nghĩa đối với mô hình về mặt thống kê (với mức ý nghĩa (***) hay p-value = 0.000)\n",
    "- Biến `Chi ăn uống` có ý nghĩa đối với mô hình về mặt thống kê (với mức ý nghĩa (***) hay p-value = 0.000)\n",
    "\n",
    "- Mô hình có thể giải thích được 93.7% sự thay đổi của biến `charges`\n",
    "- Mô hình tương đối tốt (p-value = 7.32e-248)\n",
    "\n",
    "- Phương trình hồi quy:\n",
    "Chi tiêu $=$ 7.4122 + -5.3675 $\\times$ Số người + 0.1913 $\\times$ Thu nhập +  1.1856 $\\times$ Chi ăn uống"
   ]
  },
  {
   "cell_type": "code",
   "execution_count": null,
   "metadata": {},
   "outputs": [],
   "source": []
  }
 ],
 "metadata": {
  "kernelspec": {
   "display_name": "Python 3",
   "language": "python",
   "name": "python3"
  },
  "language_info": {
   "codemirror_mode": {
    "name": "ipython",
    "version": 3
   },
   "file_extension": ".py",
   "mimetype": "text/x-python",
   "name": "python",
   "nbconvert_exporter": "python",
   "pygments_lexer": "ipython3",
   "version": "3.8.5"
  }
 },
 "nbformat": 4,
 "nbformat_minor": 4
}